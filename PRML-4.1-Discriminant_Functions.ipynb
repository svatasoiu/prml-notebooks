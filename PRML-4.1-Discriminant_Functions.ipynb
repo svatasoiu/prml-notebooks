{
 "cells": [
  {
   "cell_type": "code",
   "execution_count": 1,
   "metadata": {
    "collapsed": true
   },
   "outputs": [],
   "source": [
    "%matplotlib inline\n",
    "import matplotlib.pyplot as plt\n",
    "import numpy as np"
   ]
  },
  {
   "cell_type": "code",
   "execution_count": 2,
   "metadata": {},
   "outputs": [
    {
     "data": {
      "text/plain": [
       "<matplotlib.collections.PathCollection at 0x10ee72a58>"
      ]
     },
     "execution_count": 2,
     "metadata": {},
     "output_type": "execute_result"
    },
    {
     "data": {
      "image/png": "[encoded data removed]",
      "text/plain": [
       "<matplotlib.figure.Figure at 0x10d11ab38>"
      ]
     },
     "metadata": {},
     "output_type": "display_data"
    }
   ],
   "source": [
    "# generate random data\n",
    "N1, N2 = 50, 50\n",
    "mean1, cov1 = np.array([2,3]), np.matrix([[1., 0.5],[0.5, 1.]])\n",
    "mean2, cov2 = np.array([4,2]), np.matrix([[1., 0.5],[0.5, 1.]])\n",
    "cluster_1_data = np.random.multivariate_normal(mean1, cov2, N1)\n",
    "cluster_2_data = np.random.multivariate_normal(mean2, cov2, N2)\n",
    "\n",
    "X = np.r_[cluster_1_data, cluster_2_data]\n",
    "y = np.r_[np.zeros((len(cluster_1_data),1)), np.ones((len(cluster_2_data),1))].flatten()\n",
    "\n",
    "plt.scatter(cluster_1_data[:,0], cluster_1_data[:,1], facecolors='b')\n",
    "plt.scatter(cluster_2_data[:,0], cluster_2_data[:,1], facecolors='r')"
   ]
  },
  {
   "cell_type": "code",
   "execution_count": 3,
   "metadata": {
    "collapsed": true
   },
   "outputs": [],
   "source": [
    "# Implement Fishers linear discriminant\n",
    "class FishersTwoClassLinearDiscriminantClassifier(object):\n",
    "    def __init__(self):\n",
    "        pass\n",
    "    \n",
    "    def train(self, X, y):\n",
    "        K = X.shape[1]\n",
    "        X0, X1 = X[y==0,:], X[y==1,:]\n",
    "        \n",
    "        m0 = X0.mean(axis=0).reshape((1,K))\n",
    "        m1 = X1.mean(axis=0).reshape((1,K))\n",
    "        \n",
    "        within_covariance = np.zeros((K,K))\n",
    "        for i in range(X0.shape[0]):\n",
    "            x0 = X0[i,:].reshape((1,K))\n",
    "            within_covariance += np.dot(np.transpose(x0 - m0), x0 - m0)\n",
    "        for i in range(X1.shape[0]):\n",
    "            x1 = X1[i,:].reshape((1,K))\n",
    "            within_covariance += np.dot(np.transpose(x1 - m1), x1 - m1)\n",
    "        \n",
    "        self.w = np.dot(np.linalg.inv(within_covariance), np.transpose(m1 - m0))\n",
    "        self.w = self.w / np.linalg.norm(self.w)\n",
    "        self.threshold = (np.dot(m0, self.w) + np.dot(m1, self.w)) / 2 # how to choose threshold?\n",
    "        return self\n",
    "    \n",
    "    def predict(self, X):\n",
    "        return np.dot(X, self.w) >= self.threshold"
   ]
  },
  {
   "cell_type": "code",
   "execution_count": 4,
   "metadata": {},
   "outputs": [
    {
     "name": "stdout",
     "output_type": "stream",
     "text": [
      "8.00% error rate\n"
     ]
    },
    {
     "data": {
      "image/png": "[encoded data removed]",
      "text/plain": [
       "<matplotlib.figure.Figure at 0x10ef67320>"
      ]
     },
     "metadata": {},
     "output_type": "display_data"
    }
   ],
   "source": [
    "model = FishersTwoClassLinearDiscriminantClassifier().train(X, y)\n",
    "\n",
    "y_pred = model.predict(X).flatten()\n",
    "# actual in outer circle\n",
    "plt.scatter(cluster_1_data[:,0], cluster_1_data[:,1], s=160, facecolors='blue')\n",
    "plt.scatter(cluster_2_data[:,0], cluster_2_data[:,1], s=160, facecolors='red')\n",
    "# predictions in inner circles\n",
    "plt.scatter(X[y_pred==0,0], X[y_pred==0,1], s=40, facecolors='blue')\n",
    "plt.scatter(X[y_pred==1,0], X[y_pred==1,1], s=40, facecolors='red')\n",
    "\n",
    "# plot discriminant line\n",
    "xs = np.linspace(0,6,100)\n",
    "plt.plot(xs, (model.threshold/model.w[1] - model.w[0]*xs/model.w[1]).flatten())\n",
    "\n",
    "print('{:.2f}% error rate'.format(100 * np.not_equal(y,y_pred).sum()/(X.shape[0])))"
   ]
  },
  {
   "cell_type": "code",
   "execution_count": null,
   "metadata": {
    "collapsed": true
   },
   "outputs": [],
   "source": []
  }
 ],
 "metadata": {
  "kernelspec": {
   "display_name": "Python 3",
   "language": "python",
   "name": "python3"
  },
  "language_info": {
   "codemirror_mode": {
    "name": "ipython",
    "version": 3
   },
   "file_extension": ".py",
   "mimetype": "text/x-python",
   "name": "python",
   "nbconvert_exporter": "python",
   "pygments_lexer": "ipython3",
   "version": "3.6.1"
  }
 },
 "nbformat": 4,
 "nbformat_minor": 2
}

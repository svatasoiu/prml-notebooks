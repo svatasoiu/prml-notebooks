{
 "cells": [
  {
   "cell_type": "code",
   "execution_count": 2,
   "metadata": {
    "collapsed": true
   },
   "outputs": [],
   "source": [
    "%matplotlib inline\n",
    "import matplotlib.pyplot as plt\n",
    "import numpy as np"
   ]
  },
  {
   "cell_type": "code",
   "execution_count": 3,
   "metadata": {},
   "outputs": [
    {
     "data": {
      "text/plain": [
       "<matplotlib.collections.PathCollection at 0x10abf2e10>"
      ]
     },
     "execution_count": 3,
     "metadata": {},
     "output_type": "execute_result"
    },
    {
     "data": {
      "image/png": "[encoded data removed]",
      "text/plain": [
       "<matplotlib.figure.Figure at 0x10a1f0978>"
      ]
     },
     "metadata": {},
     "output_type": "display_data"
    }
   ],
   "source": [
    "# generate random data\n",
    "N1, N2 = 50, 50\n",
    "mean1, cov1 = np.array([2,3]), np.matrix([[1., 0.5],[0.5, 1.]])\n",
    "mean2, cov2 = np.array([4,2]), np.matrix([[1., 0.5],[0.5, 1.]])\n",
    "cluster_1_data = np.random.multivariate_normal(mean1, cov2, N1)\n",
    "cluster_2_data = np.random.multivariate_normal(mean2, cov2, N2)\n",
    "\n",
    "X = np.r_[cluster_1_data, cluster_2_data]\n",
    "y = np.r_[np.zeros((len(cluster_1_data),1)), np.ones((len(cluster_2_data),1))].flatten()\n",
    "\n",
    "plt.scatter(cluster_1_data[:,0], cluster_1_data[:,1], facecolors='b')\n",
    "plt.scatter(cluster_2_data[:,0], cluster_2_data[:,1], facecolors='r')"
   ]
  },
  {
   "cell_type": "code",
   "execution_count": 4,
   "metadata": {
    "collapsed": true
   },
   "outputs": [],
   "source": [
    "def eval_classifier(clf, X, y):\n",
    "    model = clf.train(X, y)\n",
    "\n",
    "    y_pred = model.predict(X).flatten()\n",
    "    # actual in outer circle\n",
    "    plt.scatter(cluster_1_data[:,0], cluster_1_data[:,1], s=40, facecolors='blue')\n",
    "    plt.scatter(cluster_2_data[:,0], cluster_2_data[:,1], s=40, facecolors='red')\n",
    "    # predictions in inner circles\n",
    "    plt.scatter(X[y_pred==0,0], X[y_pred==0,1], s=10, facecolors='blue')\n",
    "    plt.scatter(X[y_pred==1,0], X[y_pred==1,1], s=10, facecolors='red')\n",
    "\n",
    "    # plot discriminant line\n",
    "    xs = np.linspace(0,6,100)\n",
    "    plt.plot(xs, model.disc_line(xs))\n",
    "\n",
    "    print('{:.2f}% error rate'.format(100 * np.not_equal(y,y_pred).sum()/(X.shape[0])))"
   ]
  },
  {
   "cell_type": "code",
   "execution_count": 38,
   "metadata": {},
   "outputs": [],
   "source": [
    "# Implementation\n",
    "def logistic_sigmoid(x):\n",
    "    return 1 / (1 + np.exp(-x))\n",
    "    \n",
    "class GaussianMLEClassifier(object):\n",
    "    def __init__(self):\n",
    "        pass\n",
    "    \n",
    "    def train(self, X, y):\n",
    "        K = X.shape[1]\n",
    "        \n",
    "        X0, X1 = X[y==0,:], X[y==1,:]\n",
    "        N0, N1 = X0.shape[0], X1.shape[0]\n",
    "        \n",
    "        # compute MLE estimates of gaussian parameters\n",
    "        self.p = N0 / (N0 + N1)\n",
    "        self.mu0 = X0.mean(axis=0).reshape((1,K))\n",
    "        self.mu1 = X1.mean(axis=0).reshape((1,K))\n",
    "        \n",
    "        S0, S1 = np.zeros((K,K)), np.zeros((K,K))\n",
    "        for i in range(X0.shape[0]):\n",
    "            x0 = X0[i,:].reshape((1,K))\n",
    "            S0 += np.dot(np.transpose(x0 - self.mu0), x0 - self.mu0)\n",
    "        for i in range(X1.shape[0]):\n",
    "            x1 = X1[i,:].reshape((1,K))\n",
    "            S1 += np.dot(np.transpose(x1 - self.mu1), x1 - self.mu1)\n",
    "        self.S_inv = np.linalg.inv((S0 + S1) / (N0 + N1))\n",
    "        \n",
    "        # compute weights\n",
    "        self.w = np.dot(self.S_inv, np.transpose(self.mu0 - self.mu1))\n",
    "        self.w0 = -0.5 * (np.dot(np.dot(self.mu0, self.S_inv), np.transpose(self.mu0)) - \\\n",
    "                          np.dot(np.dot(self.mu1, self.S_inv), np.transpose(self.mu1))) + np.log(self.p / (1 - self.p))\n",
    "        return self\n",
    "    \n",
    "    def predict(self, X):\n",
    "        return logistic_sigmoid(np.dot(X, self.w) + self.w0) < 0.5\n",
    "    \n",
    "    def disc_line(self, xs):\n",
    "        return ((-self.w0 - self.w[0]*xs)/self.w[1]).flatten()"
   ]
  },
  {
   "cell_type": "code",
   "execution_count": 39,
   "metadata": {},
   "outputs": [
    {
     "name": "stdout",
     "output_type": "stream",
     "text": [
      "3.00% error rate\n"
     ]
    },
    {
     "data": {
      "image/png": "[encoded data removed]",
      "text/plain": [
       "<matplotlib.figure.Figure at 0x10b38b198>"
      ]
     },
     "metadata": {},
     "output_type": "display_data"
    }
   ],
   "source": [
    "eval_classifier(GaussianMLEClassifier(), X, y)"
   ]
  },
  {
   "cell_type": "code",
   "execution_count": null,
   "metadata": {
    "collapsed": true
   },
   "outputs": [],
   "source": [
    "# TODO: Naive bayes"
   ]
  }
 ],
 "metadata": {
  "kernelspec": {
   "display_name": "Python 3",
   "language": "python",
   "name": "python3"
  },
  "language_info": {
   "codemirror_mode": {
    "name": "ipython",
    "version": 3
   },
   "file_extension": ".py",
   "mimetype": "text/x-python",
   "name": "python",
   "nbconvert_exporter": "python",
   "pygments_lexer": "ipython3",
   "version": "3.6.1"
  }
 },
 "nbformat": 4,
 "nbformat_minor": 2
}
